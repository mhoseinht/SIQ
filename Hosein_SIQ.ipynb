{
 "cells": [
  {
   "cell_type": "markdown",
   "id": "831d0341",
   "metadata": {},
   "source": [
    "### Imports"
   ]
  },
  {
   "cell_type": "code",
   "execution_count": 1,
   "id": "1e96b201",
   "metadata": {},
   "outputs": [],
   "source": [
    "import pandas as pd\n",
    "import matplotlib.pyplot as plt\n",
    "import seaborn as sns\n",
    "from scipy.stats import ranksums\n",
    "from dateutil.relativedelta import relativedelta\n",
    "from sklearn.linear_model import LinearRegression\n",
    "from sklearn.metrics import mean_squared_error, r2_score, mean_absolute_error\n",
    "from sklearn.model_selection import train_test_split\n",
    "import numpy as np\n",
    "import statsmodels.api as sm"
   ]
  },
  {
   "cell_type": "code",
   "execution_count": 2,
   "id": "f5248ed6",
   "metadata": {},
   "outputs": [],
   "source": [
    "users_df = pd.read_csv('users.csv')\n",
    "activities_df = pd.read_csv('activities.csv')"
   ]
  },
  {
   "cell_type": "markdown",
   "id": "f9b73e32",
   "metadata": {},
   "source": [
    "### Data understanding"
   ]
  },
  {
   "cell_type": "code",
   "execution_count": 3,
   "id": "31c6ac5e",
   "metadata": {},
   "outputs": [
    {
     "data": {
      "text/html": [
       "<div>\n",
       "<style scoped>\n",
       "    .dataframe tbody tr th:only-of-type {\n",
       "        vertical-align: middle;\n",
       "    }\n",
       "\n",
       "    .dataframe tbody tr th {\n",
       "        vertical-align: top;\n",
       "    }\n",
       "\n",
       "    .dataframe thead th {\n",
       "        text-align: right;\n",
       "    }\n",
       "</style>\n",
       "<table border=\"1\" class=\"dataframe\">\n",
       "  <thead>\n",
       "    <tr style=\"text-align: right;\">\n",
       "      <th></th>\n",
       "      <th>UserId</th>\n",
       "      <th>Country</th>\n",
       "      <th>DOB</th>\n",
       "      <th>Gender</th>\n",
       "      <th>RegDate</th>\n",
       "    </tr>\n",
       "  </thead>\n",
       "  <tbody>\n",
       "    <tr>\n",
       "      <th>0</th>\n",
       "      <td>1326865</td>\n",
       "      <td>DE</td>\n",
       "      <td>1988-05-04</td>\n",
       "      <td>M</td>\n",
       "      <td>2016-03-24</td>\n",
       "    </tr>\n",
       "    <tr>\n",
       "      <th>1</th>\n",
       "      <td>1333278</td>\n",
       "      <td>GB</td>\n",
       "      <td>1971-07-21</td>\n",
       "      <td>M</td>\n",
       "      <td>2016-02-09</td>\n",
       "    </tr>\n",
       "    <tr>\n",
       "      <th>2</th>\n",
       "      <td>1336967</td>\n",
       "      <td>GB</td>\n",
       "      <td>1983-07-31</td>\n",
       "      <td>M</td>\n",
       "      <td>2016-01-29</td>\n",
       "    </tr>\n",
       "    <tr>\n",
       "      <th>3</th>\n",
       "      <td>1339784</td>\n",
       "      <td>Other</td>\n",
       "      <td>1976-09-21</td>\n",
       "      <td>M</td>\n",
       "      <td>2016-01-21</td>\n",
       "    </tr>\n",
       "    <tr>\n",
       "      <th>4</th>\n",
       "      <td>1339829</td>\n",
       "      <td>Other</td>\n",
       "      <td>1981-05-03</td>\n",
       "      <td>F</td>\n",
       "      <td>2016-04-12</td>\n",
       "    </tr>\n",
       "  </tbody>\n",
       "</table>\n",
       "</div>"
      ],
      "text/plain": [
       "    UserId Country         DOB Gender     RegDate\n",
       "0  1326865      DE  1988-05-04      M  2016-03-24\n",
       "1  1333278      GB  1971-07-21      M  2016-02-09\n",
       "2  1336967      GB  1983-07-31      M  2016-01-29\n",
       "3  1339784   Other  1976-09-21      M  2016-01-21\n",
       "4  1339829   Other  1981-05-03      F  2016-04-12"
      ]
     },
     "execution_count": 3,
     "metadata": {},
     "output_type": "execute_result"
    }
   ],
   "source": [
    "users_df.head()"
   ]
  },
  {
   "cell_type": "code",
   "execution_count": 4,
   "id": "1eba0f4e",
   "metadata": {},
   "outputs": [
    {
     "name": "stdout",
     "output_type": "stream",
     "text": [
      "<class 'pandas.core.frame.DataFrame'>\n",
      "RangeIndex: 5807 entries, 0 to 5806\n",
      "Data columns (total 5 columns):\n",
      " #   Column   Non-Null Count  Dtype \n",
      "---  ------   --------------  ----- \n",
      " 0   UserId   5807 non-null   int64 \n",
      " 1   Country  5807 non-null   object\n",
      " 2   DOB      5807 non-null   object\n",
      " 3   Gender   5807 non-null   object\n",
      " 4   RegDate  5807 non-null   object\n",
      "dtypes: int64(1), object(4)\n",
      "memory usage: 227.0+ KB\n"
     ]
    }
   ],
   "source": [
    "users_df.info()"
   ]
  },
  {
   "cell_type": "code",
   "execution_count": 5,
   "id": "71d4fbed",
   "metadata": {},
   "outputs": [
    {
     "name": "stdout",
     "output_type": "stream",
     "text": [
      "['DE' 'GB' 'Other' 'FR' 'US']\n",
      "['M' 'F' ' ']\n"
     ]
    }
   ],
   "source": [
    "print(users_df['Country'].unique())\n",
    "print(users_df['Gender'].unique())"
   ]
  },
  {
   "cell_type": "code",
   "execution_count": 6,
   "id": "d4b166e7",
   "metadata": {},
   "outputs": [
    {
     "data": {
      "text/html": [
       "<div>\n",
       "<style scoped>\n",
       "    .dataframe tbody tr th:only-of-type {\n",
       "        vertical-align: middle;\n",
       "    }\n",
       "\n",
       "    .dataframe tbody tr th {\n",
       "        vertical-align: top;\n",
       "    }\n",
       "\n",
       "    .dataframe thead th {\n",
       "        text-align: right;\n",
       "    }\n",
       "</style>\n",
       "<table border=\"1\" class=\"dataframe\">\n",
       "  <thead>\n",
       "    <tr style=\"text-align: right;\">\n",
       "      <th></th>\n",
       "      <th>UserId</th>\n",
       "      <th>Date</th>\n",
       "      <th>Revenue</th>\n",
       "    </tr>\n",
       "  </thead>\n",
       "  <tbody>\n",
       "    <tr>\n",
       "      <th>0</th>\n",
       "      <td>1326865</td>\n",
       "      <td>2017-02-19</td>\n",
       "      <td>17.05</td>\n",
       "    </tr>\n",
       "    <tr>\n",
       "      <th>1</th>\n",
       "      <td>1326865</td>\n",
       "      <td>2017-02-28</td>\n",
       "      <td>17.05</td>\n",
       "    </tr>\n",
       "    <tr>\n",
       "      <th>2</th>\n",
       "      <td>1326865</td>\n",
       "      <td>2017-03-06</td>\n",
       "      <td>17.16</td>\n",
       "    </tr>\n",
       "    <tr>\n",
       "      <th>3</th>\n",
       "      <td>1326865</td>\n",
       "      <td>2017-03-07</td>\n",
       "      <td>17.16</td>\n",
       "    </tr>\n",
       "    <tr>\n",
       "      <th>4</th>\n",
       "      <td>1326865</td>\n",
       "      <td>2017-03-08</td>\n",
       "      <td>17.16</td>\n",
       "    </tr>\n",
       "  </tbody>\n",
       "</table>\n",
       "</div>"
      ],
      "text/plain": [
       "    UserId        Date  Revenue\n",
       "0  1326865  2017-02-19    17.05\n",
       "1  1326865  2017-02-28    17.05\n",
       "2  1326865  2017-03-06    17.16\n",
       "3  1326865  2017-03-07    17.16\n",
       "4  1326865  2017-03-08    17.16"
      ]
     },
     "execution_count": 6,
     "metadata": {},
     "output_type": "execute_result"
    }
   ],
   "source": [
    "activities_df.head()"
   ]
  },
  {
   "cell_type": "code",
   "execution_count": 7,
   "id": "af5bc25f",
   "metadata": {},
   "outputs": [
    {
     "name": "stdout",
     "output_type": "stream",
     "text": [
      "<class 'pandas.core.frame.DataFrame'>\n",
      "RangeIndex: 22642 entries, 0 to 22641\n",
      "Data columns (total 3 columns):\n",
      " #   Column   Non-Null Count  Dtype  \n",
      "---  ------   --------------  -----  \n",
      " 0   UserId   22642 non-null  int64  \n",
      " 1   Date     22642 non-null  object \n",
      " 2   Revenue  22642 non-null  float64\n",
      "dtypes: float64(1), int64(1), object(1)\n",
      "memory usage: 530.8+ KB\n"
     ]
    }
   ],
   "source": [
    "activities_df.info()"
   ]
  },
  {
   "cell_type": "markdown",
   "id": "6ae4d18f",
   "metadata": {},
   "source": [
    "#### <span style='color:red'> A - 1 </span>\n",
    "a: 5 variables in users table and 3 variables in activities table\n",
    "\n",
    "b: 5807 records in users table and 22642 records in activities table\n",
    "\n",
    "ps. days_since_reg is not available"
   ]
  },
  {
   "cell_type": "code",
   "execution_count": 8,
   "id": "fc296e71",
   "metadata": {},
   "outputs": [
    {
     "name": "stdout",
     "output_type": "stream",
     "text": [
      "Male users:  2909\n",
      "Female users:  1417\n",
      "other:  1481\n"
     ]
    }
   ],
   "source": [
    "print('Male users: ', len(users_df[users_df['Gender']=='M']))\n",
    "print('Female users: ', len(users_df[users_df['Gender']=='F']))\n",
    "print('other: ', len(users_df[users_df['Gender']==' ']))"
   ]
  },
  {
   "cell_type": "markdown",
   "id": "06ef1153",
   "metadata": {},
   "source": [
    "#### <span style='color:red'> A - 2 </span>\n",
    "a: Male users:  2909\n",
    "\n",
    "b: Female users:  1417\n",
    "\n",
    "c: other:  1481\n"
   ]
  },
  {
   "cell_type": "code",
   "execution_count": 9,
   "id": "bf03b8f3",
   "metadata": {},
   "outputs": [],
   "source": [
    "users_df['Gender'].replace(' ', 'M', inplace = True)"
   ]
  },
  {
   "cell_type": "code",
   "execution_count": 10,
   "id": "90655467",
   "metadata": {
    "scrolled": true
   },
   "outputs": [
    {
     "name": "stdout",
     "output_type": "stream",
     "text": [
      "other:  0\n"
     ]
    }
   ],
   "source": [
    "print('other: ', len(users_df[users_df['Gender']==' ']))"
   ]
  },
  {
   "cell_type": "code",
   "execution_count": 11,
   "id": "cb470677",
   "metadata": {},
   "outputs": [
    {
     "name": "stdout",
     "output_type": "stream",
     "text": [
      "5807\n",
      "5797\n"
     ]
    }
   ],
   "source": [
    "print(len(users_df['UserId'].unique()))\n",
    "print(len(activities_df['UserId'].unique())) #after caclulating revenue per user I noticed a difference so I added this check"
   ]
  },
  {
   "cell_type": "markdown",
   "id": "fea3ef48",
   "metadata": {},
   "source": [
    "## Data manipulation"
   ]
  },
  {
   "cell_type": "markdown",
   "id": "f21a40c7",
   "metadata": {},
   "source": [
    "#### <span style='color:red'> A - 3 </span>"
   ]
  },
  {
   "cell_type": "code",
   "execution_count": 12,
   "id": "684a1f7c",
   "metadata": {},
   "outputs": [],
   "source": [
    "activities_df = activities_df.merge(users_df, on = 'UserId')"
   ]
  },
  {
   "cell_type": "code",
   "execution_count": 13,
   "id": "bd668507",
   "metadata": {
    "scrolled": true
   },
   "outputs": [
    {
     "data": {
      "text/html": [
       "<div>\n",
       "<style scoped>\n",
       "    .dataframe tbody tr th:only-of-type {\n",
       "        vertical-align: middle;\n",
       "    }\n",
       "\n",
       "    .dataframe tbody tr th {\n",
       "        vertical-align: top;\n",
       "    }\n",
       "\n",
       "    .dataframe thead th {\n",
       "        text-align: right;\n",
       "    }\n",
       "</style>\n",
       "<table border=\"1\" class=\"dataframe\">\n",
       "  <thead>\n",
       "    <tr style=\"text-align: right;\">\n",
       "      <th></th>\n",
       "      <th>UserId</th>\n",
       "      <th>Date</th>\n",
       "      <th>Revenue</th>\n",
       "      <th>Country</th>\n",
       "      <th>DOB</th>\n",
       "      <th>Gender</th>\n",
       "      <th>RegDate</th>\n",
       "    </tr>\n",
       "  </thead>\n",
       "  <tbody>\n",
       "    <tr>\n",
       "      <th>0</th>\n",
       "      <td>1326865</td>\n",
       "      <td>2017-02-19</td>\n",
       "      <td>17.05</td>\n",
       "      <td>DE</td>\n",
       "      <td>1988-05-04</td>\n",
       "      <td>M</td>\n",
       "      <td>2016-03-24</td>\n",
       "    </tr>\n",
       "    <tr>\n",
       "      <th>1</th>\n",
       "      <td>1326865</td>\n",
       "      <td>2017-02-28</td>\n",
       "      <td>17.05</td>\n",
       "      <td>DE</td>\n",
       "      <td>1988-05-04</td>\n",
       "      <td>M</td>\n",
       "      <td>2016-03-24</td>\n",
       "    </tr>\n",
       "    <tr>\n",
       "      <th>2</th>\n",
       "      <td>1326865</td>\n",
       "      <td>2017-03-06</td>\n",
       "      <td>17.16</td>\n",
       "      <td>DE</td>\n",
       "      <td>1988-05-04</td>\n",
       "      <td>M</td>\n",
       "      <td>2016-03-24</td>\n",
       "    </tr>\n",
       "    <tr>\n",
       "      <th>3</th>\n",
       "      <td>1326865</td>\n",
       "      <td>2017-03-07</td>\n",
       "      <td>17.16</td>\n",
       "      <td>DE</td>\n",
       "      <td>1988-05-04</td>\n",
       "      <td>M</td>\n",
       "      <td>2016-03-24</td>\n",
       "    </tr>\n",
       "    <tr>\n",
       "      <th>4</th>\n",
       "      <td>1326865</td>\n",
       "      <td>2017-03-08</td>\n",
       "      <td>17.16</td>\n",
       "      <td>DE</td>\n",
       "      <td>1988-05-04</td>\n",
       "      <td>M</td>\n",
       "      <td>2016-03-24</td>\n",
       "    </tr>\n",
       "  </tbody>\n",
       "</table>\n",
       "</div>"
      ],
      "text/plain": [
       "    UserId        Date  Revenue Country         DOB Gender     RegDate\n",
       "0  1326865  2017-02-19    17.05      DE  1988-05-04      M  2016-03-24\n",
       "1  1326865  2017-02-28    17.05      DE  1988-05-04      M  2016-03-24\n",
       "2  1326865  2017-03-06    17.16      DE  1988-05-04      M  2016-03-24\n",
       "3  1326865  2017-03-07    17.16      DE  1988-05-04      M  2016-03-24\n",
       "4  1326865  2017-03-08    17.16      DE  1988-05-04      M  2016-03-24"
      ]
     },
     "execution_count": 13,
     "metadata": {},
     "output_type": "execute_result"
    }
   ],
   "source": [
    "activities_df.head()"
   ]
  },
  {
   "cell_type": "code",
   "execution_count": 14,
   "id": "bca3aa14",
   "metadata": {},
   "outputs": [],
   "source": [
    "activities_df[['Date','RegDate','DOB']] = activities_df[['Date','RegDate','DOB']].apply(pd.to_datetime)\n",
    "activities_df['days_since_reg'] = (activities_df['Date'] - activities_df['RegDate']).dt.days\n",
    "activities_df['Week'] = activities_df['days_since_reg'] // 7 + 1\n",
    "\n",
    "# it might be that someone's birthday in their first week, so important not to create two week1 records for regression part:\n",
    "activities_df['Registration_Age'] = activities_df.apply(lambda x: relativedelta(x.RegDate, x.DOB).years, axis=1)\n"
   ]
  },
  {
   "cell_type": "code",
   "execution_count": 15,
   "id": "de423e26",
   "metadata": {
    "scrolled": true
   },
   "outputs": [
    {
     "data": {
      "text/html": [
       "<div>\n",
       "<style scoped>\n",
       "    .dataframe tbody tr th:only-of-type {\n",
       "        vertical-align: middle;\n",
       "    }\n",
       "\n",
       "    .dataframe tbody tr th {\n",
       "        vertical-align: top;\n",
       "    }\n",
       "\n",
       "    .dataframe thead th {\n",
       "        text-align: right;\n",
       "    }\n",
       "</style>\n",
       "<table border=\"1\" class=\"dataframe\">\n",
       "  <thead>\n",
       "    <tr style=\"text-align: right;\">\n",
       "      <th></th>\n",
       "      <th>UserId</th>\n",
       "      <th>Date</th>\n",
       "      <th>Revenue</th>\n",
       "      <th>Country</th>\n",
       "      <th>DOB</th>\n",
       "      <th>Gender</th>\n",
       "      <th>RegDate</th>\n",
       "      <th>days_since_reg</th>\n",
       "      <th>Week</th>\n",
       "      <th>Registration_Age</th>\n",
       "    </tr>\n",
       "  </thead>\n",
       "  <tbody>\n",
       "    <tr>\n",
       "      <th>0</th>\n",
       "      <td>1326865</td>\n",
       "      <td>2017-02-19</td>\n",
       "      <td>17.05</td>\n",
       "      <td>DE</td>\n",
       "      <td>1988-05-04</td>\n",
       "      <td>M</td>\n",
       "      <td>2016-03-24</td>\n",
       "      <td>332</td>\n",
       "      <td>48</td>\n",
       "      <td>27</td>\n",
       "    </tr>\n",
       "    <tr>\n",
       "      <th>1</th>\n",
       "      <td>1326865</td>\n",
       "      <td>2017-02-28</td>\n",
       "      <td>17.05</td>\n",
       "      <td>DE</td>\n",
       "      <td>1988-05-04</td>\n",
       "      <td>M</td>\n",
       "      <td>2016-03-24</td>\n",
       "      <td>341</td>\n",
       "      <td>49</td>\n",
       "      <td>27</td>\n",
       "    </tr>\n",
       "    <tr>\n",
       "      <th>2</th>\n",
       "      <td>1326865</td>\n",
       "      <td>2017-03-06</td>\n",
       "      <td>17.16</td>\n",
       "      <td>DE</td>\n",
       "      <td>1988-05-04</td>\n",
       "      <td>M</td>\n",
       "      <td>2016-03-24</td>\n",
       "      <td>347</td>\n",
       "      <td>50</td>\n",
       "      <td>27</td>\n",
       "    </tr>\n",
       "    <tr>\n",
       "      <th>3</th>\n",
       "      <td>1326865</td>\n",
       "      <td>2017-03-07</td>\n",
       "      <td>17.16</td>\n",
       "      <td>DE</td>\n",
       "      <td>1988-05-04</td>\n",
       "      <td>M</td>\n",
       "      <td>2016-03-24</td>\n",
       "      <td>348</td>\n",
       "      <td>50</td>\n",
       "      <td>27</td>\n",
       "    </tr>\n",
       "    <tr>\n",
       "      <th>4</th>\n",
       "      <td>1326865</td>\n",
       "      <td>2017-03-08</td>\n",
       "      <td>17.16</td>\n",
       "      <td>DE</td>\n",
       "      <td>1988-05-04</td>\n",
       "      <td>M</td>\n",
       "      <td>2016-03-24</td>\n",
       "      <td>349</td>\n",
       "      <td>50</td>\n",
       "      <td>27</td>\n",
       "    </tr>\n",
       "  </tbody>\n",
       "</table>\n",
       "</div>"
      ],
      "text/plain": [
       "    UserId       Date  Revenue Country        DOB Gender    RegDate  \\\n",
       "0  1326865 2017-02-19    17.05      DE 1988-05-04      M 2016-03-24   \n",
       "1  1326865 2017-02-28    17.05      DE 1988-05-04      M 2016-03-24   \n",
       "2  1326865 2017-03-06    17.16      DE 1988-05-04      M 2016-03-24   \n",
       "3  1326865 2017-03-07    17.16      DE 1988-05-04      M 2016-03-24   \n",
       "4  1326865 2017-03-08    17.16      DE 1988-05-04      M 2016-03-24   \n",
       "\n",
       "   days_since_reg  Week  Registration_Age  \n",
       "0             332    48                27  \n",
       "1             341    49                27  \n",
       "2             347    50                27  \n",
       "3             348    50                27  \n",
       "4             349    50                27  "
      ]
     },
     "execution_count": 15,
     "metadata": {},
     "output_type": "execute_result"
    }
   ],
   "source": [
    "activities_df.head(5)"
   ]
  },
  {
   "cell_type": "code",
   "execution_count": 16,
   "id": "5977adc6",
   "metadata": {
    "scrolled": true
   },
   "outputs": [
    {
     "data": {
      "text/html": [
       "<div>\n",
       "<style scoped>\n",
       "    .dataframe tbody tr th:only-of-type {\n",
       "        vertical-align: middle;\n",
       "    }\n",
       "\n",
       "    .dataframe tbody tr th {\n",
       "        vertical-align: top;\n",
       "    }\n",
       "\n",
       "    .dataframe thead th {\n",
       "        text-align: right;\n",
       "    }\n",
       "</style>\n",
       "<table border=\"1\" class=\"dataframe\">\n",
       "  <thead>\n",
       "    <tr style=\"text-align: right;\">\n",
       "      <th></th>\n",
       "      <th>UserId</th>\n",
       "      <th>Date</th>\n",
       "      <th>Revenue</th>\n",
       "      <th>Country</th>\n",
       "      <th>DOB</th>\n",
       "      <th>Gender</th>\n",
       "      <th>RegDate</th>\n",
       "      <th>days_since_reg</th>\n",
       "      <th>Week</th>\n",
       "      <th>Registration_Age</th>\n",
       "    </tr>\n",
       "  </thead>\n",
       "  <tbody>\n",
       "    <tr>\n",
       "      <th>1642</th>\n",
       "      <td>3109386</td>\n",
       "      <td>2017-03-03</td>\n",
       "      <td>20.00</td>\n",
       "      <td>GB</td>\n",
       "      <td>1986-05-16</td>\n",
       "      <td>F</td>\n",
       "      <td>2017-02-26</td>\n",
       "      <td>5</td>\n",
       "      <td>1</td>\n",
       "      <td>30</td>\n",
       "    </tr>\n",
       "    <tr>\n",
       "      <th>1647</th>\n",
       "      <td>3114216</td>\n",
       "      <td>2017-01-29</td>\n",
       "      <td>29.19</td>\n",
       "      <td>Other</td>\n",
       "      <td>1978-09-02</td>\n",
       "      <td>M</td>\n",
       "      <td>2017-01-23</td>\n",
       "      <td>6</td>\n",
       "      <td>1</td>\n",
       "      <td>38</td>\n",
       "    </tr>\n",
       "    <tr>\n",
       "      <th>1652</th>\n",
       "      <td>3114891</td>\n",
       "      <td>2017-01-19</td>\n",
       "      <td>20.00</td>\n",
       "      <td>GB</td>\n",
       "      <td>1968-03-23</td>\n",
       "      <td>M</td>\n",
       "      <td>2017-01-16</td>\n",
       "      <td>3</td>\n",
       "      <td>1</td>\n",
       "      <td>48</td>\n",
       "    </tr>\n",
       "    <tr>\n",
       "      <th>1654</th>\n",
       "      <td>3115043</td>\n",
       "      <td>2016-10-22</td>\n",
       "      <td>17.05</td>\n",
       "      <td>US</td>\n",
       "      <td>1985-11-01</td>\n",
       "      <td>F</td>\n",
       "      <td>2016-10-17</td>\n",
       "      <td>5</td>\n",
       "      <td>1</td>\n",
       "      <td>30</td>\n",
       "    </tr>\n",
       "    <tr>\n",
       "      <th>1658</th>\n",
       "      <td>3115226</td>\n",
       "      <td>2016-12-04</td>\n",
       "      <td>25.00</td>\n",
       "      <td>GB</td>\n",
       "      <td>1967-07-04</td>\n",
       "      <td>M</td>\n",
       "      <td>2016-11-29</td>\n",
       "      <td>5</td>\n",
       "      <td>1</td>\n",
       "      <td>49</td>\n",
       "    </tr>\n",
       "    <tr>\n",
       "      <th>...</th>\n",
       "      <td>...</td>\n",
       "      <td>...</td>\n",
       "      <td>...</td>\n",
       "      <td>...</td>\n",
       "      <td>...</td>\n",
       "      <td>...</td>\n",
       "      <td>...</td>\n",
       "      <td>...</td>\n",
       "      <td>...</td>\n",
       "      <td>...</td>\n",
       "    </tr>\n",
       "    <tr>\n",
       "      <th>22633</th>\n",
       "      <td>3347222</td>\n",
       "      <td>2017-03-23</td>\n",
       "      <td>19.28</td>\n",
       "      <td>FR</td>\n",
       "      <td>1967-05-25</td>\n",
       "      <td>M</td>\n",
       "      <td>2017-03-22</td>\n",
       "      <td>1</td>\n",
       "      <td>1</td>\n",
       "      <td>49</td>\n",
       "    </tr>\n",
       "    <tr>\n",
       "      <th>22638</th>\n",
       "      <td>3347251</td>\n",
       "      <td>2017-04-03</td>\n",
       "      <td>30.00</td>\n",
       "      <td>GB</td>\n",
       "      <td>1981-06-11</td>\n",
       "      <td>F</td>\n",
       "      <td>2017-04-03</td>\n",
       "      <td>0</td>\n",
       "      <td>1</td>\n",
       "      <td>35</td>\n",
       "    </tr>\n",
       "    <tr>\n",
       "      <th>22639</th>\n",
       "      <td>3347333</td>\n",
       "      <td>2017-01-27</td>\n",
       "      <td>30.00</td>\n",
       "      <td>GB</td>\n",
       "      <td>1987-11-22</td>\n",
       "      <td>M</td>\n",
       "      <td>2017-01-27</td>\n",
       "      <td>0</td>\n",
       "      <td>1</td>\n",
       "      <td>29</td>\n",
       "    </tr>\n",
       "    <tr>\n",
       "      <th>22640</th>\n",
       "      <td>3347367</td>\n",
       "      <td>2017-04-04</td>\n",
       "      <td>17.05</td>\n",
       "      <td>US</td>\n",
       "      <td>1995-08-09</td>\n",
       "      <td>F</td>\n",
       "      <td>2017-04-04</td>\n",
       "      <td>0</td>\n",
       "      <td>1</td>\n",
       "      <td>21</td>\n",
       "    </tr>\n",
       "    <tr>\n",
       "      <th>22641</th>\n",
       "      <td>3347450</td>\n",
       "      <td>2017-04-21</td>\n",
       "      <td>42.63</td>\n",
       "      <td>US</td>\n",
       "      <td>1994-07-30</td>\n",
       "      <td>M</td>\n",
       "      <td>2017-04-21</td>\n",
       "      <td>0</td>\n",
       "      <td>1</td>\n",
       "      <td>22</td>\n",
       "    </tr>\n",
       "  </tbody>\n",
       "</table>\n",
       "<p>7345 rows × 10 columns</p>\n",
       "</div>"
      ],
      "text/plain": [
       "        UserId       Date  Revenue Country        DOB Gender    RegDate  \\\n",
       "1642   3109386 2017-03-03    20.00      GB 1986-05-16      F 2017-02-26   \n",
       "1647   3114216 2017-01-29    29.19   Other 1978-09-02      M 2017-01-23   \n",
       "1652   3114891 2017-01-19    20.00      GB 1968-03-23      M 2017-01-16   \n",
       "1654   3115043 2016-10-22    17.05      US 1985-11-01      F 2016-10-17   \n",
       "1658   3115226 2016-12-04    25.00      GB 1967-07-04      M 2016-11-29   \n",
       "...        ...        ...      ...     ...        ...    ...        ...   \n",
       "22633  3347222 2017-03-23    19.28      FR 1967-05-25      M 2017-03-22   \n",
       "22638  3347251 2017-04-03    30.00      GB 1981-06-11      F 2017-04-03   \n",
       "22639  3347333 2017-01-27    30.00      GB 1987-11-22      M 2017-01-27   \n",
       "22640  3347367 2017-04-04    17.05      US 1995-08-09      F 2017-04-04   \n",
       "22641  3347450 2017-04-21    42.63      US 1994-07-30      M 2017-04-21   \n",
       "\n",
       "       days_since_reg  Week  Registration_Age  \n",
       "1642                5     1                30  \n",
       "1647                6     1                38  \n",
       "1652                3     1                48  \n",
       "1654                5     1                30  \n",
       "1658                5     1                49  \n",
       "...               ...   ...               ...  \n",
       "22633               1     1                49  \n",
       "22638               0     1                35  \n",
       "22639               0     1                29  \n",
       "22640               0     1                21  \n",
       "22641               0     1                22  \n",
       "\n",
       "[7345 rows x 10 columns]"
      ]
     },
     "execution_count": 16,
     "metadata": {},
     "output_type": "execute_result"
    }
   ],
   "source": [
    "activities_df[activities_df['Week'] == 1] #Not everyone starts at week 1!"
   ]
  },
  {
   "cell_type": "code",
   "execution_count": 17,
   "id": "0adca2c0",
   "metadata": {
    "scrolled": true
   },
   "outputs": [
    {
     "data": {
      "text/html": [
       "<div>\n",
       "<style scoped>\n",
       "    .dataframe tbody tr th:only-of-type {\n",
       "        vertical-align: middle;\n",
       "    }\n",
       "\n",
       "    .dataframe tbody tr th {\n",
       "        vertical-align: top;\n",
       "    }\n",
       "\n",
       "    .dataframe thead th {\n",
       "        text-align: right;\n",
       "    }\n",
       "</style>\n",
       "<table border=\"1\" class=\"dataframe\">\n",
       "  <thead>\n",
       "    <tr style=\"text-align: right;\">\n",
       "      <th></th>\n",
       "      <th>UserId</th>\n",
       "      <th>Week</th>\n",
       "      <th>Count</th>\n",
       "    </tr>\n",
       "  </thead>\n",
       "  <tbody>\n",
       "    <tr>\n",
       "      <th>2</th>\n",
       "      <td>1326865</td>\n",
       "      <td>50</td>\n",
       "      <td>3</td>\n",
       "    </tr>\n",
       "    <tr>\n",
       "      <th>5</th>\n",
       "      <td>1326865</td>\n",
       "      <td>54</td>\n",
       "      <td>3</td>\n",
       "    </tr>\n",
       "    <tr>\n",
       "      <th>22</th>\n",
       "      <td>1361182</td>\n",
       "      <td>47</td>\n",
       "      <td>2</td>\n",
       "    </tr>\n",
       "    <tr>\n",
       "      <th>24</th>\n",
       "      <td>1361182</td>\n",
       "      <td>50</td>\n",
       "      <td>2</td>\n",
       "    </tr>\n",
       "    <tr>\n",
       "      <th>26</th>\n",
       "      <td>1405503</td>\n",
       "      <td>47</td>\n",
       "      <td>2</td>\n",
       "    </tr>\n",
       "  </tbody>\n",
       "</table>\n",
       "</div>"
      ],
      "text/plain": [
       "     UserId  Week  Count\n",
       "2   1326865    50      3\n",
       "5   1326865    54      3\n",
       "22  1361182    47      2\n",
       "24  1361182    50      2\n",
       "26  1405503    47      2"
      ]
     },
     "execution_count": 17,
     "metadata": {},
     "output_type": "execute_result"
    }
   ],
   "source": [
    "temp_df = activities_df.groupby(['UserId','Week']).agg(Count = ('UserId','count')).reset_index()\n",
    "temp_df[temp_df['Count']>1].head(5) # multiple pay per week is possible"
   ]
  },
  {
   "cell_type": "code",
   "execution_count": 18,
   "id": "14e2084d",
   "metadata": {},
   "outputs": [],
   "source": [
    "UserRevenue_df = activities_df.groupby('UserId').agg(\n",
    "    MeanRevenue = ('Revenue', 'mean'), \n",
    "    MedianRevenue = ('Revenue', 'median'),\n",
    "    StandardDeviation = ('Revenue', 'std'),\n",
    "    MaxWeek = ('Week', 'max')).reset_index()"
   ]
  },
  {
   "cell_type": "code",
   "execution_count": 19,
   "id": "45988157",
   "metadata": {},
   "outputs": [],
   "source": [
    "UserRevenue_df['MeanMedianDifference'] = UserRevenue_df['MeanRevenue'] - UserRevenue_df['MedianRevenue']"
   ]
  },
  {
   "cell_type": "code",
   "execution_count": 20,
   "id": "d6ec3359",
   "metadata": {},
   "outputs": [
    {
     "name": "stdout",
     "output_type": "stream",
     "text": [
      "5797\n"
     ]
    },
    {
     "data": {
      "text/html": [
       "<div>\n",
       "<style scoped>\n",
       "    .dataframe tbody tr th:only-of-type {\n",
       "        vertical-align: middle;\n",
       "    }\n",
       "\n",
       "    .dataframe tbody tr th {\n",
       "        vertical-align: top;\n",
       "    }\n",
       "\n",
       "    .dataframe thead th {\n",
       "        text-align: right;\n",
       "    }\n",
       "</style>\n",
       "<table border=\"1\" class=\"dataframe\">\n",
       "  <thead>\n",
       "    <tr style=\"text-align: right;\">\n",
       "      <th></th>\n",
       "      <th>UserId</th>\n",
       "      <th>MeanRevenue</th>\n",
       "      <th>MedianRevenue</th>\n",
       "      <th>StandardDeviation</th>\n",
       "      <th>MaxWeek</th>\n",
       "      <th>MeanMedianDifference</th>\n",
       "    </tr>\n",
       "  </thead>\n",
       "  <tbody>\n",
       "    <tr>\n",
       "      <th>0</th>\n",
       "      <td>1326865</td>\n",
       "      <td>18.495789</td>\n",
       "      <td>17.160</td>\n",
       "      <td>4.030674</td>\n",
       "      <td>79</td>\n",
       "      <td>1.335789</td>\n",
       "    </tr>\n",
       "    <tr>\n",
       "      <th>1</th>\n",
       "      <td>1333278</td>\n",
       "      <td>22.500000</td>\n",
       "      <td>22.500</td>\n",
       "      <td>3.535534</td>\n",
       "      <td>68</td>\n",
       "      <td>0.000000</td>\n",
       "    </tr>\n",
       "    <tr>\n",
       "      <th>2</th>\n",
       "      <td>1336967</td>\n",
       "      <td>20.000000</td>\n",
       "      <td>20.000</td>\n",
       "      <td>NaN</td>\n",
       "      <td>46</td>\n",
       "      <td>0.000000</td>\n",
       "    </tr>\n",
       "    <tr>\n",
       "      <th>3</th>\n",
       "      <td>1339784</td>\n",
       "      <td>29.640000</td>\n",
       "      <td>29.640</td>\n",
       "      <td>0.636396</td>\n",
       "      <td>50</td>\n",
       "      <td>0.000000</td>\n",
       "    </tr>\n",
       "    <tr>\n",
       "      <th>4</th>\n",
       "      <td>1339829</td>\n",
       "      <td>17.050000</td>\n",
       "      <td>17.050</td>\n",
       "      <td>NaN</td>\n",
       "      <td>45</td>\n",
       "      <td>0.000000</td>\n",
       "    </tr>\n",
       "    <tr>\n",
       "      <th>5</th>\n",
       "      <td>1346806</td>\n",
       "      <td>17.050000</td>\n",
       "      <td>17.050</td>\n",
       "      <td>NaN</td>\n",
       "      <td>49</td>\n",
       "      <td>0.000000</td>\n",
       "    </tr>\n",
       "    <tr>\n",
       "      <th>6</th>\n",
       "      <td>1361182</td>\n",
       "      <td>20.000000</td>\n",
       "      <td>20.000</td>\n",
       "      <td>0.000000</td>\n",
       "      <td>50</td>\n",
       "      <td>0.000000</td>\n",
       "    </tr>\n",
       "    <tr>\n",
       "      <th>7</th>\n",
       "      <td>1392534</td>\n",
       "      <td>46.900000</td>\n",
       "      <td>46.900</td>\n",
       "      <td>NaN</td>\n",
       "      <td>46</td>\n",
       "      <td>0.000000</td>\n",
       "    </tr>\n",
       "    <tr>\n",
       "      <th>8</th>\n",
       "      <td>1405503</td>\n",
       "      <td>21.605000</td>\n",
       "      <td>21.605</td>\n",
       "      <td>5.352798</td>\n",
       "      <td>47</td>\n",
       "      <td>0.000000</td>\n",
       "    </tr>\n",
       "    <tr>\n",
       "      <th>9</th>\n",
       "      <td>1415290</td>\n",
       "      <td>25.000000</td>\n",
       "      <td>20.000</td>\n",
       "      <td>12.247449</td>\n",
       "      <td>88</td>\n",
       "      <td>5.000000</td>\n",
       "    </tr>\n",
       "  </tbody>\n",
       "</table>\n",
       "</div>"
      ],
      "text/plain": [
       "    UserId  MeanRevenue  MedianRevenue  StandardDeviation  MaxWeek  \\\n",
       "0  1326865    18.495789         17.160           4.030674       79   \n",
       "1  1333278    22.500000         22.500           3.535534       68   \n",
       "2  1336967    20.000000         20.000                NaN       46   \n",
       "3  1339784    29.640000         29.640           0.636396       50   \n",
       "4  1339829    17.050000         17.050                NaN       45   \n",
       "5  1346806    17.050000         17.050                NaN       49   \n",
       "6  1361182    20.000000         20.000           0.000000       50   \n",
       "7  1392534    46.900000         46.900                NaN       46   \n",
       "8  1405503    21.605000         21.605           5.352798       47   \n",
       "9  1415290    25.000000         20.000          12.247449       88   \n",
       "\n",
       "   MeanMedianDifference  \n",
       "0              1.335789  \n",
       "1              0.000000  \n",
       "2              0.000000  \n",
       "3              0.000000  \n",
       "4              0.000000  \n",
       "5              0.000000  \n",
       "6              0.000000  \n",
       "7              0.000000  \n",
       "8              0.000000  \n",
       "9              5.000000  "
      ]
     },
     "execution_count": 20,
     "metadata": {},
     "output_type": "execute_result"
    }
   ],
   "source": [
    "print(len(UserRevenue_df))\n",
    "UserRevenue_df.head(10)"
   ]
  },
  {
   "cell_type": "code",
   "execution_count": 21,
   "id": "97b2f0a4",
   "metadata": {},
   "outputs": [
    {
     "data": {
      "text/html": [
       "<div>\n",
       "<style scoped>\n",
       "    .dataframe tbody tr th:only-of-type {\n",
       "        vertical-align: middle;\n",
       "    }\n",
       "\n",
       "    .dataframe tbody tr th {\n",
       "        vertical-align: top;\n",
       "    }\n",
       "\n",
       "    .dataframe thead th {\n",
       "        text-align: right;\n",
       "    }\n",
       "</style>\n",
       "<table border=\"1\" class=\"dataframe\">\n",
       "  <thead>\n",
       "    <tr style=\"text-align: right;\">\n",
       "      <th></th>\n",
       "      <th>UserId</th>\n",
       "      <th>MeanRevenue</th>\n",
       "      <th>MedianRevenue</th>\n",
       "      <th>StandardDeviation</th>\n",
       "      <th>MaxWeek</th>\n",
       "      <th>MeanMedianDifference</th>\n",
       "    </tr>\n",
       "  </thead>\n",
       "  <tbody>\n",
       "    <tr>\n",
       "      <th>0</th>\n",
       "      <td>1326865</td>\n",
       "      <td>18.495789</td>\n",
       "      <td>17.160</td>\n",
       "      <td>4.030674</td>\n",
       "      <td>79</td>\n",
       "      <td>1.335789</td>\n",
       "    </tr>\n",
       "    <tr>\n",
       "      <th>9</th>\n",
       "      <td>1415290</td>\n",
       "      <td>25.000000</td>\n",
       "      <td>20.000</td>\n",
       "      <td>12.247449</td>\n",
       "      <td>88</td>\n",
       "      <td>5.000000</td>\n",
       "    </tr>\n",
       "    <tr>\n",
       "      <th>15</th>\n",
       "      <td>1629211</td>\n",
       "      <td>82.927451</td>\n",
       "      <td>50.000</td>\n",
       "      <td>87.303107</td>\n",
       "      <td>77</td>\n",
       "      <td>32.927451</td>\n",
       "    </tr>\n",
       "    <tr>\n",
       "      <th>19</th>\n",
       "      <td>1728899</td>\n",
       "      <td>14.043333</td>\n",
       "      <td>12.400</td>\n",
       "      <td>3.488500</td>\n",
       "      <td>43</td>\n",
       "      <td>1.643333</td>\n",
       "    </tr>\n",
       "    <tr>\n",
       "      <th>22</th>\n",
       "      <td>1738641</td>\n",
       "      <td>33.333333</td>\n",
       "      <td>40.000</td>\n",
       "      <td>11.547005</td>\n",
       "      <td>60</td>\n",
       "      <td>-6.666667</td>\n",
       "    </tr>\n",
       "    <tr>\n",
       "      <th>...</th>\n",
       "      <td>...</td>\n",
       "      <td>...</td>\n",
       "      <td>...</td>\n",
       "      <td>...</td>\n",
       "      <td>...</td>\n",
       "      <td>...</td>\n",
       "    </tr>\n",
       "    <tr>\n",
       "      <th>5776</th>\n",
       "      <td>3346114</td>\n",
       "      <td>289.200000</td>\n",
       "      <td>240.000</td>\n",
       "      <td>219.301619</td>\n",
       "      <td>2</td>\n",
       "      <td>49.200000</td>\n",
       "    </tr>\n",
       "    <tr>\n",
       "      <th>5779</th>\n",
       "      <td>3346247</td>\n",
       "      <td>144.290455</td>\n",
       "      <td>109.415</td>\n",
       "      <td>129.811679</td>\n",
       "      <td>16</td>\n",
       "      <td>34.875455</td>\n",
       "    </tr>\n",
       "    <tr>\n",
       "      <th>5787</th>\n",
       "      <td>3346959</td>\n",
       "      <td>1033.333333</td>\n",
       "      <td>1000.000</td>\n",
       "      <td>950.438495</td>\n",
       "      <td>4</td>\n",
       "      <td>33.333333</td>\n",
       "    </tr>\n",
       "    <tr>\n",
       "      <th>5788</th>\n",
       "      <td>3346966</td>\n",
       "      <td>26.666667</td>\n",
       "      <td>20.000</td>\n",
       "      <td>11.547005</td>\n",
       "      <td>9</td>\n",
       "      <td>6.666667</td>\n",
       "    </tr>\n",
       "    <tr>\n",
       "      <th>5792</th>\n",
       "      <td>3347222</td>\n",
       "      <td>38.378333</td>\n",
       "      <td>28.400</td>\n",
       "      <td>24.380045</td>\n",
       "      <td>8</td>\n",
       "      <td>9.978333</td>\n",
       "    </tr>\n",
       "  </tbody>\n",
       "</table>\n",
       "<p>1868 rows × 6 columns</p>\n",
       "</div>"
      ],
      "text/plain": [
       "       UserId  MeanRevenue  MedianRevenue  StandardDeviation  MaxWeek  \\\n",
       "0     1326865    18.495789         17.160           4.030674       79   \n",
       "9     1415290    25.000000         20.000          12.247449       88   \n",
       "15    1629211    82.927451         50.000          87.303107       77   \n",
       "19    1728899    14.043333         12.400           3.488500       43   \n",
       "22    1738641    33.333333         40.000          11.547005       60   \n",
       "...       ...          ...            ...                ...      ...   \n",
       "5776  3346114   289.200000        240.000         219.301619        2   \n",
       "5779  3346247   144.290455        109.415         129.811679       16   \n",
       "5787  3346959  1033.333333       1000.000         950.438495        4   \n",
       "5788  3346966    26.666667         20.000          11.547005        9   \n",
       "5792  3347222    38.378333         28.400          24.380045        8   \n",
       "\n",
       "      MeanMedianDifference  \n",
       "0                 1.335789  \n",
       "9                 5.000000  \n",
       "15               32.927451  \n",
       "19                1.643333  \n",
       "22               -6.666667  \n",
       "...                    ...  \n",
       "5776             49.200000  \n",
       "5779             34.875455  \n",
       "5787             33.333333  \n",
       "5788              6.666667  \n",
       "5792              9.978333  \n",
       "\n",
       "[1868 rows x 6 columns]"
      ]
     },
     "execution_count": 21,
     "metadata": {},
     "output_type": "execute_result"
    }
   ],
   "source": [
    "UserRevenue_df[UserRevenue_df['MeanMedianDifference'] != 0]"
   ]
  },
  {
   "cell_type": "code",
   "execution_count": 22,
   "id": "64d4d434",
   "metadata": {},
   "outputs": [
    {
     "name": "stdout",
     "output_type": "stream",
     "text": [
      "312\n",
      "1556\n"
     ]
    }
   ],
   "source": [
    "print(len(UserRevenue_df[UserRevenue_df['MeanMedianDifference'] < 0]))\n",
    "print(len(UserRevenue_df[UserRevenue_df['MeanMedianDifference'] > 0])) #In most cases mean is bigger"
   ]
  },
  {
   "cell_type": "markdown",
   "id": "7d42dbb4",
   "metadata": {},
   "source": [
    "##### Just to give a view of my thought process I included following individual check. I usually take a look at examples individual level data as well to have a better feeling of how the data looks like:"
   ]
  },
  {
   "cell_type": "code",
   "execution_count": 23,
   "id": "1eac12a4",
   "metadata": {
    "scrolled": false
   },
   "outputs": [
    {
     "data": {
      "text/html": [
       "<div>\n",
       "<style scoped>\n",
       "    .dataframe tbody tr th:only-of-type {\n",
       "        vertical-align: middle;\n",
       "    }\n",
       "\n",
       "    .dataframe tbody tr th {\n",
       "        vertical-align: top;\n",
       "    }\n",
       "\n",
       "    .dataframe thead th {\n",
       "        text-align: right;\n",
       "    }\n",
       "</style>\n",
       "<table border=\"1\" class=\"dataframe\">\n",
       "  <thead>\n",
       "    <tr style=\"text-align: right;\">\n",
       "      <th></th>\n",
       "      <th>UserId</th>\n",
       "      <th>Date</th>\n",
       "      <th>Revenue</th>\n",
       "      <th>Country</th>\n",
       "      <th>DOB</th>\n",
       "      <th>Gender</th>\n",
       "      <th>RegDate</th>\n",
       "      <th>days_since_reg</th>\n",
       "      <th>Week</th>\n",
       "      <th>Registration_Age</th>\n",
       "    </tr>\n",
       "  </thead>\n",
       "  <tbody>\n",
       "    <tr>\n",
       "      <th>22592</th>\n",
       "      <td>3346247</td>\n",
       "      <td>2017-05-02</td>\n",
       "      <td>21.32</td>\n",
       "      <td>Other</td>\n",
       "      <td>1972-08-03</td>\n",
       "      <td>F</td>\n",
       "      <td>2017-05-02</td>\n",
       "      <td>0</td>\n",
       "      <td>1</td>\n",
       "      <td>44</td>\n",
       "    </tr>\n",
       "    <tr>\n",
       "      <th>22593</th>\n",
       "      <td>3346247</td>\n",
       "      <td>2017-05-03</td>\n",
       "      <td>107.27</td>\n",
       "      <td>Other</td>\n",
       "      <td>1972-08-03</td>\n",
       "      <td>F</td>\n",
       "      <td>2017-05-02</td>\n",
       "      <td>1</td>\n",
       "      <td>1</td>\n",
       "      <td>44</td>\n",
       "    </tr>\n",
       "    <tr>\n",
       "      <th>22594</th>\n",
       "      <td>3346247</td>\n",
       "      <td>2017-05-04</td>\n",
       "      <td>68.65</td>\n",
       "      <td>Other</td>\n",
       "      <td>1972-08-03</td>\n",
       "      <td>F</td>\n",
       "      <td>2017-05-02</td>\n",
       "      <td>2</td>\n",
       "      <td>1</td>\n",
       "      <td>44</td>\n",
       "    </tr>\n",
       "    <tr>\n",
       "      <th>22595</th>\n",
       "      <td>3346247</td>\n",
       "      <td>2017-05-06</td>\n",
       "      <td>21.45</td>\n",
       "      <td>Other</td>\n",
       "      <td>1972-08-03</td>\n",
       "      <td>F</td>\n",
       "      <td>2017-05-02</td>\n",
       "      <td>4</td>\n",
       "      <td>1</td>\n",
       "      <td>44</td>\n",
       "    </tr>\n",
       "    <tr>\n",
       "      <th>22596</th>\n",
       "      <td>3346247</td>\n",
       "      <td>2017-05-07</td>\n",
       "      <td>25.74</td>\n",
       "      <td>Other</td>\n",
       "      <td>1972-08-03</td>\n",
       "      <td>F</td>\n",
       "      <td>2017-05-02</td>\n",
       "      <td>5</td>\n",
       "      <td>1</td>\n",
       "      <td>44</td>\n",
       "    </tr>\n",
       "    <tr>\n",
       "      <th>22597</th>\n",
       "      <td>3346247</td>\n",
       "      <td>2017-05-09</td>\n",
       "      <td>175.92</td>\n",
       "      <td>Other</td>\n",
       "      <td>1972-08-03</td>\n",
       "      <td>F</td>\n",
       "      <td>2017-05-02</td>\n",
       "      <td>7</td>\n",
       "      <td>2</td>\n",
       "      <td>44</td>\n",
       "    </tr>\n",
       "    <tr>\n",
       "      <th>22598</th>\n",
       "      <td>3346247</td>\n",
       "      <td>2017-05-10</td>\n",
       "      <td>85.81</td>\n",
       "      <td>Other</td>\n",
       "      <td>1972-08-03</td>\n",
       "      <td>F</td>\n",
       "      <td>2017-05-02</td>\n",
       "      <td>8</td>\n",
       "      <td>2</td>\n",
       "      <td>44</td>\n",
       "    </tr>\n",
       "    <tr>\n",
       "      <th>22599</th>\n",
       "      <td>3346247</td>\n",
       "      <td>2017-05-11</td>\n",
       "      <td>21.45</td>\n",
       "      <td>Other</td>\n",
       "      <td>1972-08-03</td>\n",
       "      <td>F</td>\n",
       "      <td>2017-05-02</td>\n",
       "      <td>9</td>\n",
       "      <td>2</td>\n",
       "      <td>44</td>\n",
       "    </tr>\n",
       "    <tr>\n",
       "      <th>22600</th>\n",
       "      <td>3346247</td>\n",
       "      <td>2017-05-12</td>\n",
       "      <td>85.81</td>\n",
       "      <td>Other</td>\n",
       "      <td>1972-08-03</td>\n",
       "      <td>F</td>\n",
       "      <td>2017-05-02</td>\n",
       "      <td>10</td>\n",
       "      <td>2</td>\n",
       "      <td>44</td>\n",
       "    </tr>\n",
       "    <tr>\n",
       "      <th>22601</th>\n",
       "      <td>3346247</td>\n",
       "      <td>2017-05-19</td>\n",
       "      <td>111.56</td>\n",
       "      <td>Other</td>\n",
       "      <td>1972-08-03</td>\n",
       "      <td>F</td>\n",
       "      <td>2017-05-02</td>\n",
       "      <td>17</td>\n",
       "      <td>3</td>\n",
       "      <td>44</td>\n",
       "    </tr>\n",
       "    <tr>\n",
       "      <th>22602</th>\n",
       "      <td>3346247</td>\n",
       "      <td>2017-05-20</td>\n",
       "      <td>128.72</td>\n",
       "      <td>Other</td>\n",
       "      <td>1972-08-03</td>\n",
       "      <td>F</td>\n",
       "      <td>2017-05-02</td>\n",
       "      <td>18</td>\n",
       "      <td>3</td>\n",
       "      <td>44</td>\n",
       "    </tr>\n",
       "    <tr>\n",
       "      <th>22603</th>\n",
       "      <td>3346247</td>\n",
       "      <td>2017-05-21</td>\n",
       "      <td>283.19</td>\n",
       "      <td>Other</td>\n",
       "      <td>1972-08-03</td>\n",
       "      <td>F</td>\n",
       "      <td>2017-05-02</td>\n",
       "      <td>19</td>\n",
       "      <td>3</td>\n",
       "      <td>44</td>\n",
       "    </tr>\n",
       "    <tr>\n",
       "      <th>22604</th>\n",
       "      <td>3346247</td>\n",
       "      <td>2017-05-23</td>\n",
       "      <td>120.14</td>\n",
       "      <td>Other</td>\n",
       "      <td>1972-08-03</td>\n",
       "      <td>F</td>\n",
       "      <td>2017-05-02</td>\n",
       "      <td>21</td>\n",
       "      <td>4</td>\n",
       "      <td>44</td>\n",
       "    </tr>\n",
       "    <tr>\n",
       "      <th>22605</th>\n",
       "      <td>3346247</td>\n",
       "      <td>2017-05-26</td>\n",
       "      <td>85.81</td>\n",
       "      <td>Other</td>\n",
       "      <td>1972-08-03</td>\n",
       "      <td>F</td>\n",
       "      <td>2017-05-02</td>\n",
       "      <td>24</td>\n",
       "      <td>4</td>\n",
       "      <td>44</td>\n",
       "    </tr>\n",
       "    <tr>\n",
       "      <th>22606</th>\n",
       "      <td>3346247</td>\n",
       "      <td>2017-06-02</td>\n",
       "      <td>85.43</td>\n",
       "      <td>Other</td>\n",
       "      <td>1972-08-03</td>\n",
       "      <td>F</td>\n",
       "      <td>2017-05-02</td>\n",
       "      <td>31</td>\n",
       "      <td>5</td>\n",
       "      <td>44</td>\n",
       "    </tr>\n",
       "    <tr>\n",
       "      <th>22607</th>\n",
       "      <td>3346247</td>\n",
       "      <td>2017-06-03</td>\n",
       "      <td>234.94</td>\n",
       "      <td>Other</td>\n",
       "      <td>1972-08-03</td>\n",
       "      <td>F</td>\n",
       "      <td>2017-05-02</td>\n",
       "      <td>32</td>\n",
       "      <td>5</td>\n",
       "      <td>44</td>\n",
       "    </tr>\n",
       "    <tr>\n",
       "      <th>22608</th>\n",
       "      <td>3346247</td>\n",
       "      <td>2017-06-05</td>\n",
       "      <td>170.87</td>\n",
       "      <td>Other</td>\n",
       "      <td>1972-08-03</td>\n",
       "      <td>F</td>\n",
       "      <td>2017-05-02</td>\n",
       "      <td>34</td>\n",
       "      <td>5</td>\n",
       "      <td>44</td>\n",
       "    </tr>\n",
       "    <tr>\n",
       "      <th>22609</th>\n",
       "      <td>3346247</td>\n",
       "      <td>2017-06-06</td>\n",
       "      <td>491.24</td>\n",
       "      <td>Other</td>\n",
       "      <td>1972-08-03</td>\n",
       "      <td>F</td>\n",
       "      <td>2017-05-02</td>\n",
       "      <td>35</td>\n",
       "      <td>6</td>\n",
       "      <td>44</td>\n",
       "    </tr>\n",
       "    <tr>\n",
       "      <th>22610</th>\n",
       "      <td>3346247</td>\n",
       "      <td>2017-07-02</td>\n",
       "      <td>489.07</td>\n",
       "      <td>Other</td>\n",
       "      <td>1972-08-03</td>\n",
       "      <td>F</td>\n",
       "      <td>2017-05-02</td>\n",
       "      <td>61</td>\n",
       "      <td>9</td>\n",
       "      <td>44</td>\n",
       "    </tr>\n",
       "    <tr>\n",
       "      <th>22611</th>\n",
       "      <td>3346247</td>\n",
       "      <td>2017-07-03</td>\n",
       "      <td>148.85</td>\n",
       "      <td>Other</td>\n",
       "      <td>1972-08-03</td>\n",
       "      <td>F</td>\n",
       "      <td>2017-05-02</td>\n",
       "      <td>62</td>\n",
       "      <td>9</td>\n",
       "      <td>44</td>\n",
       "    </tr>\n",
       "    <tr>\n",
       "      <th>22612</th>\n",
       "      <td>3346247</td>\n",
       "      <td>2017-08-17</td>\n",
       "      <td>118.24</td>\n",
       "      <td>Other</td>\n",
       "      <td>1972-08-03</td>\n",
       "      <td>F</td>\n",
       "      <td>2017-05-02</td>\n",
       "      <td>107</td>\n",
       "      <td>16</td>\n",
       "      <td>44</td>\n",
       "    </tr>\n",
       "    <tr>\n",
       "      <th>22613</th>\n",
       "      <td>3346247</td>\n",
       "      <td>2017-08-18</td>\n",
       "      <td>92.91</td>\n",
       "      <td>Other</td>\n",
       "      <td>1972-08-03</td>\n",
       "      <td>F</td>\n",
       "      <td>2017-05-02</td>\n",
       "      <td>108</td>\n",
       "      <td>16</td>\n",
       "      <td>44</td>\n",
       "    </tr>\n",
       "  </tbody>\n",
       "</table>\n",
       "</div>"
      ],
      "text/plain": [
       "        UserId       Date  Revenue Country        DOB Gender    RegDate  \\\n",
       "22592  3346247 2017-05-02    21.32   Other 1972-08-03      F 2017-05-02   \n",
       "22593  3346247 2017-05-03   107.27   Other 1972-08-03      F 2017-05-02   \n",
       "22594  3346247 2017-05-04    68.65   Other 1972-08-03      F 2017-05-02   \n",
       "22595  3346247 2017-05-06    21.45   Other 1972-08-03      F 2017-05-02   \n",
       "22596  3346247 2017-05-07    25.74   Other 1972-08-03      F 2017-05-02   \n",
       "22597  3346247 2017-05-09   175.92   Other 1972-08-03      F 2017-05-02   \n",
       "22598  3346247 2017-05-10    85.81   Other 1972-08-03      F 2017-05-02   \n",
       "22599  3346247 2017-05-11    21.45   Other 1972-08-03      F 2017-05-02   \n",
       "22600  3346247 2017-05-12    85.81   Other 1972-08-03      F 2017-05-02   \n",
       "22601  3346247 2017-05-19   111.56   Other 1972-08-03      F 2017-05-02   \n",
       "22602  3346247 2017-05-20   128.72   Other 1972-08-03      F 2017-05-02   \n",
       "22603  3346247 2017-05-21   283.19   Other 1972-08-03      F 2017-05-02   \n",
       "22604  3346247 2017-05-23   120.14   Other 1972-08-03      F 2017-05-02   \n",
       "22605  3346247 2017-05-26    85.81   Other 1972-08-03      F 2017-05-02   \n",
       "22606  3346247 2017-06-02    85.43   Other 1972-08-03      F 2017-05-02   \n",
       "22607  3346247 2017-06-03   234.94   Other 1972-08-03      F 2017-05-02   \n",
       "22608  3346247 2017-06-05   170.87   Other 1972-08-03      F 2017-05-02   \n",
       "22609  3346247 2017-06-06   491.24   Other 1972-08-03      F 2017-05-02   \n",
       "22610  3346247 2017-07-02   489.07   Other 1972-08-03      F 2017-05-02   \n",
       "22611  3346247 2017-07-03   148.85   Other 1972-08-03      F 2017-05-02   \n",
       "22612  3346247 2017-08-17   118.24   Other 1972-08-03      F 2017-05-02   \n",
       "22613  3346247 2017-08-18    92.91   Other 1972-08-03      F 2017-05-02   \n",
       "\n",
       "       days_since_reg  Week  Registration_Age  \n",
       "22592               0     1                44  \n",
       "22593               1     1                44  \n",
       "22594               2     1                44  \n",
       "22595               4     1                44  \n",
       "22596               5     1                44  \n",
       "22597               7     2                44  \n",
       "22598               8     2                44  \n",
       "22599               9     2                44  \n",
       "22600              10     2                44  \n",
       "22601              17     3                44  \n",
       "22602              18     3                44  \n",
       "22603              19     3                44  \n",
       "22604              21     4                44  \n",
       "22605              24     4                44  \n",
       "22606              31     5                44  \n",
       "22607              32     5                44  \n",
       "22608              34     5                44  \n",
       "22609              35     6                44  \n",
       "22610              61     9                44  \n",
       "22611              62     9                44  \n",
       "22612             107    16                44  \n",
       "22613             108    16                44  "
      ]
     },
     "execution_count": 23,
     "metadata": {},
     "output_type": "execute_result"
    }
   ],
   "source": [
    "activities_df[activities_df['UserId'] == 3346247] "
   ]
  },
  {
   "cell_type": "code",
   "execution_count": 24,
   "id": "ca87bc38",
   "metadata": {},
   "outputs": [
    {
     "data": {
      "text/plain": [
       "<AxesSubplot:xlabel='Revenue', ylabel='Count'>"
      ]
     },
     "execution_count": 24,
     "metadata": {},
     "output_type": "execute_result"
    },
    {
     "data": {
      "image/png": "[encoded data removed]",
      "text/plain": [
       "<Figure size 432x288 with 1 Axes>"
      ]
     },
     "metadata": {
      "needs_background": "light"
     },
     "output_type": "display_data"
    }
   ],
   "source": [
    "sns.histplot(data= activities_df[activities_df['UserId'] == 3346247] , x = 'Revenue', bins = 10) "
   ]
  },
  {
   "cell_type": "code",
   "execution_count": 25,
   "id": "a01e6108",
   "metadata": {},
   "outputs": [
    {
     "name": "stdout",
     "output_type": "stream",
     "text": [
      "total mean:  592714.9532782566\n",
      "total median:  530668.58\n",
      "total standard deviation:  273879.53397269035\n"
     ]
    }
   ],
   "source": [
    "print('total mean: ', UserRevenue_df['MeanRevenue'].sum())\n",
    "print('total median: ', UserRevenue_df['MedianRevenue'].sum())\n",
    "print('total standard deviation: ', UserRevenue_df['StandardDeviation'].sum())"
   ]
  },
  {
   "cell_type": "markdown",
   "id": "6579e7dc",
   "metadata": {},
   "source": [
    "#### <span style='color:red'> A - 3 (mean median interpretation) </span>\n",
    "\n",
    "Considering mean and median relationship (both per user and total per user) and the high standard deviation, I interpret the revenue per user to be skewed."
   ]
  },
  {
   "cell_type": "markdown",
   "id": "8d71943c",
   "metadata": {},
   "source": [
    "#### <span style='color:red'> A - 4 </span>\n"
   ]
  },
  {
   "cell_type": "code",
   "execution_count": 26,
   "id": "d9edbdc7",
   "metadata": {},
   "outputs": [
    {
     "data": {
      "text/plain": [
       "<AxesSubplot:xlabel='Revenue', ylabel='Count'>"
      ]
     },
     "execution_count": 26,
     "metadata": {},
     "output_type": "execute_result"
    },
    {
     "data": {
      "image/png": "[encoded data removed]",
      "text/plain": [
       "<Figure size 432x288 with 1 Axes>"
      ]
     },
     "metadata": {
      "needs_background": "light"
     },
     "output_type": "display_data"
    }
   ],
   "source": [
    "sns.histplot(data= activities_df, x = 'Revenue', bins=30) # the data is skewed as expected"
   ]
  },
  {
   "cell_type": "code",
   "execution_count": 27,
   "id": "a5a79004",
   "metadata": {},
   "outputs": [
    {
     "data": {
      "text/plain": [
       "<AxesSubplot:xlabel='Revenue', ylabel='Count'>"
      ]
     },
     "execution_count": 27,
     "metadata": {},
     "output_type": "execute_result"
    },
    {
     "data": {
      "image/png": "[encoded data removed]",
      "text/plain": [
       "<Figure size 432x288 with 1 Axes>"
      ]
     },
     "metadata": {
      "needs_background": "light"
     },
     "output_type": "display_data"
    }
   ],
   "source": [
    "sns.histplot(data= activities_df, x = 'Revenue', bins=30, log_scale = True) \n",
    "# It is so heavily skewed that even on log sclale we can still see a tail"
   ]
  },
  {
   "cell_type": "code",
   "execution_count": 28,
   "id": "f83bc32c",
   "metadata": {},
   "outputs": [
    {
     "data": {
      "text/plain": [
       "<AxesSubplot:xlabel='Revenue', ylabel='Count'>"
      ]
     },
     "execution_count": 28,
     "metadata": {},
     "output_type": "execute_result"
    },
    {
     "data": {
      "image/png": "[encoded data removed]",
      "text/plain": [
       "<Figure size 432x288 with 1 Axes>"
      ]
     },
     "metadata": {
      "needs_background": "light"
     },
     "output_type": "display_data"
    }
   ],
   "source": [
    "sns.histplot(data= activities_df[activities_df['Revenue']<500], x = 'Revenue', bins=30, log_scale = False)\n",
    "# having a better view by limiting larger values."
   ]
  },
  {
   "cell_type": "markdown",
   "id": "f48b6d43",
   "metadata": {},
   "source": [
    "#### <span style='color:red'> A - 5 </span>\n"
   ]
  },
  {
   "cell_type": "code",
   "execution_count": 29,
   "id": "d775cfa2",
   "metadata": {},
   "outputs": [],
   "source": [
    "week1_df = activities_df[activities_df['Week'] == 1].groupby(['UserId','Gender','Country','Registration_Age']).agg(\n",
    "    MeanRevenue = ('Revenue', 'mean'),\n",
    "    Revenue = ('Revenue', 'sum')).reset_index()"
   ]
  },
  {
   "cell_type": "code",
   "execution_count": 30,
   "id": "a1222a2a",
   "metadata": {},
   "outputs": [
    {
     "name": "stdout",
     "output_type": "stream",
     "text": [
      "5089\n"
     ]
    },
    {
     "data": {
      "text/html": [
       "<div>\n",
       "<style scoped>\n",
       "    .dataframe tbody tr th:only-of-type {\n",
       "        vertical-align: middle;\n",
       "    }\n",
       "\n",
       "    .dataframe tbody tr th {\n",
       "        vertical-align: top;\n",
       "    }\n",
       "\n",
       "    .dataframe thead th {\n",
       "        text-align: right;\n",
       "    }\n",
       "</style>\n",
       "<table border=\"1\" class=\"dataframe\">\n",
       "  <thead>\n",
       "    <tr style=\"text-align: right;\">\n",
       "      <th></th>\n",
       "      <th>UserId</th>\n",
       "      <th>Gender</th>\n",
       "      <th>Country</th>\n",
       "      <th>Registration_Age</th>\n",
       "      <th>MeanRevenue</th>\n",
       "      <th>Revenue</th>\n",
       "    </tr>\n",
       "  </thead>\n",
       "  <tbody>\n",
       "    <tr>\n",
       "      <th>0</th>\n",
       "      <td>3109386</td>\n",
       "      <td>F</td>\n",
       "      <td>GB</td>\n",
       "      <td>30</td>\n",
       "      <td>20.00</td>\n",
       "      <td>20.00</td>\n",
       "    </tr>\n",
       "    <tr>\n",
       "      <th>1</th>\n",
       "      <td>3114216</td>\n",
       "      <td>M</td>\n",
       "      <td>Other</td>\n",
       "      <td>38</td>\n",
       "      <td>29.19</td>\n",
       "      <td>29.19</td>\n",
       "    </tr>\n",
       "    <tr>\n",
       "      <th>2</th>\n",
       "      <td>3114891</td>\n",
       "      <td>M</td>\n",
       "      <td>GB</td>\n",
       "      <td>48</td>\n",
       "      <td>20.00</td>\n",
       "      <td>20.00</td>\n",
       "    </tr>\n",
       "    <tr>\n",
       "      <th>3</th>\n",
       "      <td>3115043</td>\n",
       "      <td>F</td>\n",
       "      <td>US</td>\n",
       "      <td>30</td>\n",
       "      <td>17.05</td>\n",
       "      <td>17.05</td>\n",
       "    </tr>\n",
       "    <tr>\n",
       "      <th>4</th>\n",
       "      <td>3115226</td>\n",
       "      <td>M</td>\n",
       "      <td>GB</td>\n",
       "      <td>49</td>\n",
       "      <td>25.00</td>\n",
       "      <td>25.00</td>\n",
       "    </tr>\n",
       "  </tbody>\n",
       "</table>\n",
       "</div>"
      ],
      "text/plain": [
       "    UserId Gender Country  Registration_Age  MeanRevenue  Revenue\n",
       "0  3109386      F      GB                30        20.00    20.00\n",
       "1  3114216      M   Other                38        29.19    29.19\n",
       "2  3114891      M      GB                48        20.00    20.00\n",
       "3  3115043      F      US                30        17.05    17.05\n",
       "4  3115226      M      GB                49        25.00    25.00"
      ]
     },
     "execution_count": 30,
     "metadata": {},
     "output_type": "execute_result"
    }
   ],
   "source": [
    "print(len(week1_df))\n",
    "week1_df.head(5)"
   ]
  },
  {
   "cell_type": "code",
   "execution_count": 31,
   "id": "1d45484a",
   "metadata": {},
   "outputs": [
    {
     "name": "stdout",
     "output_type": "stream",
     "text": [
      "Average week 1 revenue 114.48679338255243\n"
     ]
    }
   ],
   "source": [
    "print('Average week 1 revenue', week1_df['MeanRevenue'].mean())"
   ]
  },
  {
   "cell_type": "markdown",
   "id": "f246ee95",
   "metadata": {},
   "source": [
    "#### <span style='color:red'> 6 </span>\n"
   ]
  },
  {
   "cell_type": "code",
   "execution_count": 32,
   "id": "48c83b96",
   "metadata": {},
   "outputs": [
    {
     "data": {
      "text/plain": [
       "RanksumsResult(statistic=4.285077451758108, pvalue=1.826755364975752e-05)"
      ]
     },
     "execution_count": 32,
     "metadata": {},
     "output_type": "execute_result"
    }
   ],
   "source": [
    "ranksums(week1_df[week1_df['Gender']=='M']['MeanRevenue'], week1_df[week1_df['Gender']=='F']['MeanRevenue'])"
   ]
  },
  {
   "cell_type": "markdown",
   "id": "8cfda93f",
   "metadata": {},
   "source": [
    "Using wilxocon test for independent samples, it appears the difference is statistically significant."
   ]
  },
  {
   "cell_type": "code",
   "execution_count": 33,
   "id": "6facb0cf",
   "metadata": {},
   "outputs": [],
   "source": [
    "week1_perCountry_df = week1_df.groupby(['Gender','Country']).agg(\n",
    "    MeanRevenue = ('MeanRevenue', 'mean')).reset_index()"
   ]
  },
  {
   "cell_type": "code",
   "execution_count": 34,
   "id": "23cc6ecd",
   "metadata": {},
   "outputs": [
    {
     "data": {
      "text/html": [
       "<div>\n",
       "<style scoped>\n",
       "    .dataframe tbody tr th:only-of-type {\n",
       "        vertical-align: middle;\n",
       "    }\n",
       "\n",
       "    .dataframe tbody tr th {\n",
       "        vertical-align: top;\n",
       "    }\n",
       "\n",
       "    .dataframe thead th {\n",
       "        text-align: right;\n",
       "    }\n",
       "</style>\n",
       "<table border=\"1\" class=\"dataframe\">\n",
       "  <thead>\n",
       "    <tr style=\"text-align: right;\">\n",
       "      <th></th>\n",
       "      <th>Gender</th>\n",
       "      <th>Country</th>\n",
       "      <th>MeanRevenue</th>\n",
       "    </tr>\n",
       "  </thead>\n",
       "  <tbody>\n",
       "    <tr>\n",
       "      <th>0</th>\n",
       "      <td>F</td>\n",
       "      <td>DE</td>\n",
       "      <td>70.421337</td>\n",
       "    </tr>\n",
       "    <tr>\n",
       "      <th>1</th>\n",
       "      <td>F</td>\n",
       "      <td>FR</td>\n",
       "      <td>119.435962</td>\n",
       "    </tr>\n",
       "    <tr>\n",
       "      <th>2</th>\n",
       "      <td>F</td>\n",
       "      <td>GB</td>\n",
       "      <td>120.894037</td>\n",
       "    </tr>\n",
       "    <tr>\n",
       "      <th>3</th>\n",
       "      <td>F</td>\n",
       "      <td>Other</td>\n",
       "      <td>54.977088</td>\n",
       "    </tr>\n",
       "    <tr>\n",
       "      <th>4</th>\n",
       "      <td>F</td>\n",
       "      <td>US</td>\n",
       "      <td>88.227154</td>\n",
       "    </tr>\n",
       "  </tbody>\n",
       "</table>\n",
       "</div>"
      ],
      "text/plain": [
       "  Gender Country  MeanRevenue\n",
       "0      F      DE    70.421337\n",
       "1      F      FR   119.435962\n",
       "2      F      GB   120.894037\n",
       "3      F   Other    54.977088\n",
       "4      F      US    88.227154"
      ]
     },
     "execution_count": 34,
     "metadata": {},
     "output_type": "execute_result"
    }
   ],
   "source": [
    "week1_perCountry_df.head(5)"
   ]
  },
  {
   "cell_type": "markdown",
   "id": "13020935",
   "metadata": {},
   "source": [
    "#### <span style='color:red'> 7 </span>\n",
    "At first sight it might seem the highest difference is in US, but given the average revenue per country is quite different, taking the ratio of female to male revenue is a better idea. In which case, 'Other' has the lowest ratio!"
   ]
  },
  {
   "cell_type": "code",
   "execution_count": 35,
   "id": "f7ea801e",
   "metadata": {},
   "outputs": [
    {
     "data": {
      "text/html": [
       "<div>\n",
       "<style scoped>\n",
       "    .dataframe tbody tr th:only-of-type {\n",
       "        vertical-align: middle;\n",
       "    }\n",
       "\n",
       "    .dataframe tbody tr th {\n",
       "        vertical-align: top;\n",
       "    }\n",
       "\n",
       "    .dataframe thead th {\n",
       "        text-align: right;\n",
       "    }\n",
       "</style>\n",
       "<table border=\"1\" class=\"dataframe\">\n",
       "  <thead>\n",
       "    <tr style=\"text-align: right;\">\n",
       "      <th></th>\n",
       "      <th>Country</th>\n",
       "      <th>F</th>\n",
       "      <th>M</th>\n",
       "      <th>Difference</th>\n",
       "      <th>Ratio</th>\n",
       "    </tr>\n",
       "  </thead>\n",
       "  <tbody>\n",
       "    <tr>\n",
       "      <th>0</th>\n",
       "      <td>DE</td>\n",
       "      <td>70.421337</td>\n",
       "      <td>90.907424</td>\n",
       "      <td>-20.486087</td>\n",
       "      <td>0.774649</td>\n",
       "    </tr>\n",
       "    <tr>\n",
       "      <th>1</th>\n",
       "      <td>FR</td>\n",
       "      <td>119.435962</td>\n",
       "      <td>152.794811</td>\n",
       "      <td>-33.358849</td>\n",
       "      <td>0.781676</td>\n",
       "    </tr>\n",
       "    <tr>\n",
       "      <th>2</th>\n",
       "      <td>GB</td>\n",
       "      <td>120.894037</td>\n",
       "      <td>129.948952</td>\n",
       "      <td>-9.054915</td>\n",
       "      <td>0.930319</td>\n",
       "    </tr>\n",
       "    <tr>\n",
       "      <th>3</th>\n",
       "      <td>Other</td>\n",
       "      <td>54.977088</td>\n",
       "      <td>88.344157</td>\n",
       "      <td>-33.367069</td>\n",
       "      <td>0.622306</td>\n",
       "    </tr>\n",
       "    <tr>\n",
       "      <th>4</th>\n",
       "      <td>US</td>\n",
       "      <td>88.227154</td>\n",
       "      <td>125.875804</td>\n",
       "      <td>-37.648651</td>\n",
       "      <td>0.700906</td>\n",
       "    </tr>\n",
       "  </tbody>\n",
       "</table>\n",
       "</div>"
      ],
      "text/plain": [
       "  Country           F           M  Difference     Ratio\n",
       "0      DE   70.421337   90.907424  -20.486087  0.774649\n",
       "1      FR  119.435962  152.794811  -33.358849  0.781676\n",
       "2      GB  120.894037  129.948952   -9.054915  0.930319\n",
       "3   Other   54.977088   88.344157  -33.367069  0.622306\n",
       "4      US   88.227154  125.875804  -37.648651  0.700906"
      ]
     },
     "execution_count": 35,
     "metadata": {},
     "output_type": "execute_result"
    }
   ],
   "source": [
    "week1_perCountry_pivoted_df = week1_perCountry_df.pivot(index= 'Country', columns= ['Gender'], \n",
    "                          values = 'MeanRevenue').rename_axis(columns = None).reset_index()\n",
    "week1_perCountry_pivoted_df['Difference'] = week1_perCountry_pivoted_df['F'] - week1_perCountry_pivoted_df['M']\n",
    "week1_perCountry_pivoted_df['Ratio'] = week1_perCountry_pivoted_df['F'] / week1_perCountry_pivoted_df['M']\n",
    "week1_perCountry_pivoted_df"
   ]
  },
  {
   "cell_type": "markdown",
   "id": "efe818dc",
   "metadata": {},
   "source": [
    "#### <span style='color:red'> 8 </span>\n",
    "Following par plot shows the relationship between country, gender, and week 1 revenue."
   ]
  },
  {
   "cell_type": "code",
   "execution_count": 36,
   "id": "667290c0",
   "metadata": {},
   "outputs": [
    {
     "data": {
      "image/png": "[encoded data removed]",
      "text/plain": [
       "<Figure size 432x288 with 1 Axes>"
      ]
     },
     "metadata": {
      "needs_background": "light"
     },
     "output_type": "display_data"
    }
   ],
   "source": [
    "ax = sns.barplot(x=\"Country\", y=\"MeanRevenue\", hue=\"Gender\", data=week1_perCountry_df)\n",
    "ax.set(ylabel='Average week1 revenue')\n",
    "plt.show()"
   ]
  },
  {
   "cell_type": "markdown",
   "id": "74826841",
   "metadata": {},
   "source": [
    "#### <span style='color:red'> 9 </span>\n",
    "I need to find first day revenue for the regression first."
   ]
  },
  {
   "cell_type": "code",
   "execution_count": 37,
   "id": "7c961389",
   "metadata": {},
   "outputs": [
    {
     "data": {
      "text/html": [
       "<div>\n",
       "<style scoped>\n",
       "    .dataframe tbody tr th:only-of-type {\n",
       "        vertical-align: middle;\n",
       "    }\n",
       "\n",
       "    .dataframe tbody tr th {\n",
       "        vertical-align: top;\n",
       "    }\n",
       "\n",
       "    .dataframe thead th {\n",
       "        text-align: right;\n",
       "    }\n",
       "</style>\n",
       "<table border=\"1\" class=\"dataframe\">\n",
       "  <thead>\n",
       "    <tr style=\"text-align: right;\">\n",
       "      <th></th>\n",
       "      <th>UserId</th>\n",
       "      <th>FirstDayRevenue</th>\n",
       "    </tr>\n",
       "  </thead>\n",
       "  <tbody>\n",
       "    <tr>\n",
       "      <th>1761</th>\n",
       "      <td>3133634</td>\n",
       "      <td>42.63</td>\n",
       "    </tr>\n",
       "    <tr>\n",
       "      <th>1764</th>\n",
       "      <td>3133644</td>\n",
       "      <td>20.00</td>\n",
       "    </tr>\n",
       "    <tr>\n",
       "      <th>1765</th>\n",
       "      <td>3133648</td>\n",
       "      <td>40.00</td>\n",
       "    </tr>\n",
       "    <tr>\n",
       "      <th>1767</th>\n",
       "      <td>3133667</td>\n",
       "      <td>62.36</td>\n",
       "    </tr>\n",
       "    <tr>\n",
       "      <th>1773</th>\n",
       "      <td>3133694</td>\n",
       "      <td>20.25</td>\n",
       "    </tr>\n",
       "  </tbody>\n",
       "</table>\n",
       "</div>"
      ],
      "text/plain": [
       "       UserId  FirstDayRevenue\n",
       "1761  3133634            42.63\n",
       "1764  3133644            20.00\n",
       "1765  3133648            40.00\n",
       "1767  3133667            62.36\n",
       "1773  3133694            20.25"
      ]
     },
     "execution_count": 37,
     "metadata": {},
     "output_type": "execute_result"
    }
   ],
   "source": [
    "FirstDay_df = activities_df[activities_df.Date == activities_df.RegDate][['UserId','Revenue']]\n",
    "FirstDay_df.rename(columns={\"Revenue\": \"FirstDayRevenue\"}, inplace = True)\n",
    "FirstDay_df.head(5)"
   ]
  },
  {
   "cell_type": "code",
   "execution_count": 38,
   "id": "3441a1ac",
   "metadata": {
    "scrolled": true
   },
   "outputs": [
    {
     "name": "stdout",
     "output_type": "stream",
     "text": [
      "5089\n",
      "4843\n"
     ]
    },
    {
     "data": {
      "text/html": [
       "<div>\n",
       "<style scoped>\n",
       "    .dataframe tbody tr th:only-of-type {\n",
       "        vertical-align: middle;\n",
       "    }\n",
       "\n",
       "    .dataframe tbody tr th {\n",
       "        vertical-align: top;\n",
       "    }\n",
       "\n",
       "    .dataframe thead th {\n",
       "        text-align: right;\n",
       "    }\n",
       "</style>\n",
       "<table border=\"1\" class=\"dataframe\">\n",
       "  <thead>\n",
       "    <tr style=\"text-align: right;\">\n",
       "      <th></th>\n",
       "      <th>UserId</th>\n",
       "      <th>Gender</th>\n",
       "      <th>Country</th>\n",
       "      <th>Registration_Age</th>\n",
       "      <th>MeanRevenue</th>\n",
       "      <th>Revenue</th>\n",
       "      <th>FirstDayRevenue</th>\n",
       "    </tr>\n",
       "  </thead>\n",
       "  <tbody>\n",
       "    <tr>\n",
       "      <th>0</th>\n",
       "      <td>3133634</td>\n",
       "      <td>M</td>\n",
       "      <td>US</td>\n",
       "      <td>50</td>\n",
       "      <td>42.63</td>\n",
       "      <td>42.63</td>\n",
       "      <td>42.63</td>\n",
       "    </tr>\n",
       "    <tr>\n",
       "      <th>1</th>\n",
       "      <td>3133644</td>\n",
       "      <td>F</td>\n",
       "      <td>GB</td>\n",
       "      <td>27</td>\n",
       "      <td>20.00</td>\n",
       "      <td>20.00</td>\n",
       "      <td>20.00</td>\n",
       "    </tr>\n",
       "    <tr>\n",
       "      <th>2</th>\n",
       "      <td>3133648</td>\n",
       "      <td>M</td>\n",
       "      <td>GB</td>\n",
       "      <td>47</td>\n",
       "      <td>40.00</td>\n",
       "      <td>40.00</td>\n",
       "      <td>40.00</td>\n",
       "    </tr>\n",
       "    <tr>\n",
       "      <th>3</th>\n",
       "      <td>3133667</td>\n",
       "      <td>M</td>\n",
       "      <td>DE</td>\n",
       "      <td>30</td>\n",
       "      <td>62.36</td>\n",
       "      <td>62.36</td>\n",
       "      <td>62.36</td>\n",
       "    </tr>\n",
       "    <tr>\n",
       "      <th>4</th>\n",
       "      <td>3133694</td>\n",
       "      <td>M</td>\n",
       "      <td>GB</td>\n",
       "      <td>28</td>\n",
       "      <td>20.25</td>\n",
       "      <td>20.25</td>\n",
       "      <td>20.25</td>\n",
       "    </tr>\n",
       "  </tbody>\n",
       "</table>\n",
       "</div>"
      ],
      "text/plain": [
       "    UserId Gender Country  Registration_Age  MeanRevenue  Revenue  \\\n",
       "0  3133634      M      US                50        42.63    42.63   \n",
       "1  3133644      F      GB                27        20.00    20.00   \n",
       "2  3133648      M      GB                47        40.00    40.00   \n",
       "3  3133667      M      DE                30        62.36    62.36   \n",
       "4  3133694      M      GB                28        20.25    20.25   \n",
       "\n",
       "   FirstDayRevenue  \n",
       "0            42.63  \n",
       "1            20.00  \n",
       "2            40.00  \n",
       "3            62.36  \n",
       "4            20.25  "
      ]
     },
     "execution_count": 38,
     "metadata": {},
     "output_type": "execute_result"
    }
   ],
   "source": [
    "print(len(week1_df))\n",
    "week1_df = week1_df.merge(FirstDay_df, on = 'UserId') # inner join! not everyone has worked on the first day!\n",
    "print(len(week1_df))\n",
    "week1_df.head(5)"
   ]
  },
  {
   "cell_type": "code",
   "execution_count": 39,
   "id": "66fd70d9",
   "metadata": {},
   "outputs": [
    {
     "data": {
      "text/html": [
       "<div>\n",
       "<style scoped>\n",
       "    .dataframe tbody tr th:only-of-type {\n",
       "        vertical-align: middle;\n",
       "    }\n",
       "\n",
       "    .dataframe tbody tr th {\n",
       "        vertical-align: top;\n",
       "    }\n",
       "\n",
       "    .dataframe thead th {\n",
       "        text-align: right;\n",
       "    }\n",
       "</style>\n",
       "<table border=\"1\" class=\"dataframe\">\n",
       "  <thead>\n",
       "    <tr style=\"text-align: right;\">\n",
       "      <th></th>\n",
       "      <th>Gender</th>\n",
       "      <th>Registration_Age</th>\n",
       "      <th>FirstDayRevenue</th>\n",
       "      <th>Revenue</th>\n",
       "      <th>Male</th>\n",
       "      <th>DE</th>\n",
       "      <th>FR</th>\n",
       "      <th>GB</th>\n",
       "      <th>Other</th>\n",
       "      <th>US</th>\n",
       "    </tr>\n",
       "  </thead>\n",
       "  <tbody>\n",
       "    <tr>\n",
       "      <th>0</th>\n",
       "      <td>M</td>\n",
       "      <td>50</td>\n",
       "      <td>3.752558</td>\n",
       "      <td>3.752558</td>\n",
       "      <td>1</td>\n",
       "      <td>0</td>\n",
       "      <td>0</td>\n",
       "      <td>0</td>\n",
       "      <td>0</td>\n",
       "      <td>1</td>\n",
       "    </tr>\n",
       "    <tr>\n",
       "      <th>1</th>\n",
       "      <td>F</td>\n",
       "      <td>27</td>\n",
       "      <td>2.995732</td>\n",
       "      <td>2.995732</td>\n",
       "      <td>0</td>\n",
       "      <td>0</td>\n",
       "      <td>0</td>\n",
       "      <td>1</td>\n",
       "      <td>0</td>\n",
       "      <td>0</td>\n",
       "    </tr>\n",
       "    <tr>\n",
       "      <th>2</th>\n",
       "      <td>M</td>\n",
       "      <td>47</td>\n",
       "      <td>3.688879</td>\n",
       "      <td>3.688879</td>\n",
       "      <td>1</td>\n",
       "      <td>0</td>\n",
       "      <td>0</td>\n",
       "      <td>1</td>\n",
       "      <td>0</td>\n",
       "      <td>0</td>\n",
       "    </tr>\n",
       "    <tr>\n",
       "      <th>3</th>\n",
       "      <td>M</td>\n",
       "      <td>30</td>\n",
       "      <td>4.132924</td>\n",
       "      <td>4.132924</td>\n",
       "      <td>1</td>\n",
       "      <td>1</td>\n",
       "      <td>0</td>\n",
       "      <td>0</td>\n",
       "      <td>0</td>\n",
       "      <td>0</td>\n",
       "    </tr>\n",
       "    <tr>\n",
       "      <th>4</th>\n",
       "      <td>M</td>\n",
       "      <td>28</td>\n",
       "      <td>3.008155</td>\n",
       "      <td>3.008155</td>\n",
       "      <td>1</td>\n",
       "      <td>0</td>\n",
       "      <td>0</td>\n",
       "      <td>1</td>\n",
       "      <td>0</td>\n",
       "      <td>0</td>\n",
       "    </tr>\n",
       "  </tbody>\n",
       "</table>\n",
       "</div>"
      ],
      "text/plain": [
       "  Gender  Registration_Age  FirstDayRevenue   Revenue  Male  DE  FR  GB  \\\n",
       "0      M                50         3.752558  3.752558     1   0   0   0   \n",
       "1      F                27         2.995732  2.995732     0   0   0   1   \n",
       "2      M                47         3.688879  3.688879     1   0   0   1   \n",
       "3      M                30         4.132924  4.132924     1   1   0   0   \n",
       "4      M                28         3.008155  3.008155     1   0   0   1   \n",
       "\n",
       "   Other  US  \n",
       "0      0   1  \n",
       "1      0   0  \n",
       "2      0   0  \n",
       "3      0   0  \n",
       "4      0   0  "
      ]
     },
     "execution_count": 39,
     "metadata": {},
     "output_type": "execute_result"
    }
   ],
   "source": [
    "model_df = week1_df[['Gender', 'Registration_Age','Country', 'FirstDayRevenue', 'Revenue']].copy()\n",
    "model_df['Male'] = model_df['Gender'].replace({'M': '1', 'F': '0'})\n",
    "model_df['Male'] = model_df['Male'].astype(int)\n",
    "model_df['Revenue'] = np.log(model_df['Revenue'])\n",
    "model_df['FirstDayRevenue'] = np.log(model_df['FirstDayRevenue'])\n",
    "model_df = pd.get_dummies(model_df, columns = ['Country'], prefix='', prefix_sep='')\n",
    "\n",
    "model_df.head(5)"
   ]
  },
  {
   "cell_type": "code",
   "execution_count": 40,
   "id": "cb6dff6a",
   "metadata": {},
   "outputs": [],
   "source": [
    "X = model_df[['Male','Registration_Age','DE','FR','GB','Other','US', 'FirstDayRevenue']].values\n",
    "y = model_df['Revenue'].values"
   ]
  },
  {
   "cell_type": "code",
   "execution_count": 41,
   "id": "4f02523d",
   "metadata": {},
   "outputs": [
    {
     "data": {
      "text/plain": [
       "LinearRegression()"
      ]
     },
     "execution_count": 41,
     "metadata": {},
     "output_type": "execute_result"
    }
   ],
   "source": [
    "X_train, X_test, y_train, y_test = train_test_split(X, y, test_size=0.2, random_state=2)\n",
    "\n",
    "regressor = LinearRegression()\n",
    "regressor.fit(X_train, y_train)\n"
   ]
  },
  {
   "cell_type": "code",
   "execution_count": 42,
   "id": "9a7b55bc",
   "metadata": {},
   "outputs": [
    {
     "name": "stdout",
     "output_type": "stream",
     "text": [
      "0.06726659383336298\n",
      "[-0.04847754  0.00364281 -0.06464261  0.01670023  0.03730882  0.00123144\n",
      "  0.00940212  1.02671915]\n"
     ]
    }
   ],
   "source": [
    "print(regressor.intercept_)\n",
    "print(regressor.coef_)\n"
   ]
  },
  {
   "cell_type": "code",
   "execution_count": 43,
   "id": "dc98a21c",
   "metadata": {},
   "outputs": [
    {
     "data": {
      "text/html": [
       "<div>\n",
       "<style scoped>\n",
       "    .dataframe tbody tr th:only-of-type {\n",
       "        vertical-align: middle;\n",
       "    }\n",
       "\n",
       "    .dataframe tbody tr th {\n",
       "        vertical-align: top;\n",
       "    }\n",
       "\n",
       "    .dataframe thead th {\n",
       "        text-align: right;\n",
       "    }\n",
       "</style>\n",
       "<table border=\"1\" class=\"dataframe\">\n",
       "  <thead>\n",
       "    <tr style=\"text-align: right;\">\n",
       "      <th></th>\n",
       "      <th>Actual</th>\n",
       "      <th>Predicted</th>\n",
       "    </tr>\n",
       "  </thead>\n",
       "  <tbody>\n",
       "    <tr>\n",
       "      <th>0</th>\n",
       "      <td>2.995732</td>\n",
       "      <td>3.273943</td>\n",
       "    </tr>\n",
       "    <tr>\n",
       "      <th>1</th>\n",
       "      <td>3.647276</td>\n",
       "      <td>3.259773</td>\n",
       "    </tr>\n",
       "    <tr>\n",
       "      <th>2</th>\n",
       "      <td>4.089165</td>\n",
       "      <td>3.311658</td>\n",
       "    </tr>\n",
       "    <tr>\n",
       "      <th>3</th>\n",
       "      <td>4.045329</td>\n",
       "      <td>4.300936</td>\n",
       "    </tr>\n",
       "    <tr>\n",
       "      <th>4</th>\n",
       "      <td>5.588147</td>\n",
       "      <td>5.833674</td>\n",
       "    </tr>\n",
       "    <tr>\n",
       "      <th>5</th>\n",
       "      <td>3.806662</td>\n",
       "      <td>4.091970</td>\n",
       "    </tr>\n",
       "    <tr>\n",
       "      <th>6</th>\n",
       "      <td>4.222591</td>\n",
       "      <td>4.008513</td>\n",
       "    </tr>\n",
       "    <tr>\n",
       "      <th>7</th>\n",
       "      <td>7.890747</td>\n",
       "      <td>7.752358</td>\n",
       "    </tr>\n",
       "    <tr>\n",
       "      <th>8</th>\n",
       "      <td>3.529591</td>\n",
       "      <td>3.739517</td>\n",
       "    </tr>\n",
       "    <tr>\n",
       "      <th>9</th>\n",
       "      <td>5.995008</td>\n",
       "      <td>4.513341</td>\n",
       "    </tr>\n",
       "  </tbody>\n",
       "</table>\n",
       "</div>"
      ],
      "text/plain": [
       "     Actual  Predicted\n",
       "0  2.995732   3.273943\n",
       "1  3.647276   3.259773\n",
       "2  4.089165   3.311658\n",
       "3  4.045329   4.300936\n",
       "4  5.588147   5.833674\n",
       "5  3.806662   4.091970\n",
       "6  4.222591   4.008513\n",
       "7  7.890747   7.752358\n",
       "8  3.529591   3.739517\n",
       "9  5.995008   4.513341"
      ]
     },
     "execution_count": 43,
     "metadata": {},
     "output_type": "execute_result"
    }
   ],
   "source": [
    "y_pred = regressor.predict(X_test)\n",
    "prediction_df = pd.DataFrame({'Actual': y_test, 'Predicted': y_pred})\n",
    "prediction_df.head(10)"
   ]
  },
  {
   "cell_type": "code",
   "execution_count": 44,
   "id": "32becdea",
   "metadata": {},
   "outputs": [
    {
     "name": "stdout",
     "output_type": "stream",
     "text": [
      "Mean Absolute Error: 0.3916747258564784\n",
      "Mean Squared Error: 0.33138996134016907\n",
      "Root Mean Squared Error: 0.5756647994624728\n"
     ]
    }
   ],
   "source": [
    "print('Mean Absolute Error:', mean_absolute_error(y_test, y_pred))\n",
    "print('Mean Squared Error:', mean_squared_error(y_test, y_pred))\n",
    "print('Root Mean Squared Error:', np.sqrt(mean_squared_error(y_test, y_pred)))\n"
   ]
  },
  {
   "cell_type": "code",
   "execution_count": 45,
   "id": "8c6503f4",
   "metadata": {
    "scrolled": true
   },
   "outputs": [
    {
     "name": "stdout",
     "output_type": "stream",
     "text": [
      "                            OLS Regression Results                            \n",
      "==============================================================================\n",
      "Dep. Variable:                      y   R-squared:                       0.788\n",
      "Model:                            OLS   Adj. R-squared:                  0.788\n",
      "Method:                 Least Squares   F-statistic:                     2570.\n",
      "Date:                Sun, 24 Apr 2022   Prob (F-statistic):               0.00\n",
      "Time:                        18:15:41   Log-Likelihood:                -4127.0\n",
      "No. Observations:                4843   AIC:                             8270.\n",
      "Df Residuals:                    4835   BIC:                             8322.\n",
      "Df Model:                           7                                         \n",
      "Covariance Type:            nonrobust                                         \n",
      "====================================================================================\n",
      "                       coef    std err          t      P>|t|      [0.025      0.975]\n",
      "------------------------------------------------------------------------------------\n",
      "const                0.0504      0.037      1.365      0.172      -0.022       0.123\n",
      "Male                -0.0343      0.020     -1.725      0.085      -0.073       0.005\n",
      "Registration_Age     0.0038      0.001      5.149      0.000       0.002       0.005\n",
      "DE                  -0.0542      0.020     -2.749      0.006      -0.093      -0.016\n",
      "FR                   0.0532      0.027      2.006      0.045       0.001       0.105\n",
      "GB                   0.0368      0.015      2.422      0.015       0.007       0.067\n",
      "Other                0.0086      0.021      0.409      0.683      -0.033       0.050\n",
      "US                   0.0060      0.018      0.326      0.745      -0.030       0.042\n",
      "FirstDayRevenue      1.0256      0.008    130.886      0.000       1.010       1.041\n",
      "==============================================================================\n",
      "Omnibus:                     2534.345   Durbin-Watson:                   1.921\n",
      "Prob(Omnibus):                  0.000   Jarque-Bera (JB):            15286.230\n",
      "Skew:                           2.521   Prob(JB):                         0.00\n",
      "Kurtosis:                      10.094   Cond. No.                     3.99e+17\n",
      "==============================================================================\n",
      "\n",
      "Notes:\n",
      "[1] Standard Errors assume that the covariance matrix of the errors is correctly specified.\n",
      "[2] The smallest eigenvalue is 4.4e-29. This might indicate that there are\n",
      "strong multicollinearity problems or that the design matrix is singular.\n"
     ]
    },
    {
     "name": "stderr",
     "output_type": "stream",
     "text": [
      "C:\\Users\\mhose\\anaconda3\\lib\\site-packages\\statsmodels\\tsa\\tsatools.py:142: FutureWarning: In a future version of pandas all arguments of concat except for the argument 'objs' will be keyword-only\n",
      "  x = pd.concat(x[::order], 1)\n"
     ]
    }
   ],
   "source": [
    "X2 = sm.add_constant(model_df[['Male','Registration_Age','DE','FR','GB','Other','US', 'FirstDayRevenue']])\n",
    "est = sm.OLS(y, X2)\n",
    "est2 = est.fit()\n",
    "print(est2.summary())\n"
   ]
  },
  {
   "cell_type": "markdown",
   "id": "a609fd8b",
   "metadata": {},
   "source": [
    "#### <span style='color:red'> 10 </span>\n",
    "I use the model to predict the expected revenue for the following cases"
   ]
  },
  {
   "cell_type": "code",
   "execution_count": 46,
   "id": "bde94296",
   "metadata": {},
   "outputs": [
    {
     "name": "stdout",
     "output_type": "stream",
     "text": [
      "Expected revenue for 40 years old woman from France, who generated 20 pounds on the first day: 27.260943132666423\n",
      "Expected revenue for 40 years old woman from Germany, who generated 20 pounds on the first day: 25.13125228190725\n",
      "Expected revenue for 40 years old woman from UK, who generated 20 pounds on the first day: 27.82858188524855\n"
     ]
    }
   ],
   "source": [
    "print('Expected revenue for 40 years old woman from France, who generated 20 pounds on the first day:', \n",
    "      np.exp(regressor.predict(np.array([0,40,0,1,0,0,0,np.log(20)]).reshape(1, -1))[0]))\n",
    "print('Expected revenue for 40 years old woman from Germany, who generated 20 pounds on the first day:', \n",
    "np.exp(regressor.predict(np.array([0,40,1,0,0,0,0,np.log(20)]).reshape(1, -1))[0]))\n",
    "print('Expected revenue for 40 years old woman from UK, who generated 20 pounds on the first day:', \n",
    "np.exp(regressor.predict(np.array([0,40,0,0,1,0,0,np.log(20)]).reshape(1, -1))[0]))\n"
   ]
  }
 ],
 "metadata": {
  "kernelspec": {
   "display_name": "Python 3 (ipykernel)",
   "language": "python",
   "name": "python3"
  },
  "language_info": {
   "codemirror_mode": {
    "name": "ipython",
    "version": 3
   },
   "file_extension": ".py",
   "mimetype": "text/x-python",
   "name": "python",
   "nbconvert_exporter": "python",
   "pygments_lexer": "ipython3",
   "version": "3.9.7"
  }
 },
 "nbformat": 4,
 "nbformat_minor": 5
}
